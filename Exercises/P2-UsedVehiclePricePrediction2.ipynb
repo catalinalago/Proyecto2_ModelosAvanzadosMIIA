{
 "cells": [
  {
   "cell_type": "markdown",
   "metadata": {
    "colab_type": "text",
    "id": "QTw7zl-KsxNK"
   },
   "source": [
    "# Project 2\n",
    "\n",
    "# Used Vehicle Price Prediction"
   ]
  },
  {
   "cell_type": "markdown",
   "metadata": {
    "colab_type": "text",
    "id": "orCgoiihsxNM"
   },
   "source": [
    "## Introduction\n",
    "\n",
    "- 1.2 Million listings scraped from TrueCar.com - Price, Mileage, Make, Model dataset from Kaggle: [data](https://www.kaggle.com/jpayne/852k-used-car-listings)\n",
    "- Each observation represents the price of an used car"
   ]
  },
  {
   "cell_type": "code",
   "execution_count": null,
   "metadata": {
    "colab": {
     "base_uri": "https://localhost:8080/",
     "height": 204
    },
    "colab_type": "code",
    "executionInfo": {
     "elapsed": 3429,
     "status": "ok",
     "timestamp": 1593378434566,
     "user": {
      "displayName": "Catalina Lago",
      "photoUrl": "",
      "userId": "05060712323662355960"
     },
     "user_tz": 300
    },
    "id": "CVk_kbKJsxNN",
    "outputId": "f76c99f6-8646-4c5e-c296-f137d24eaddc"
   },
   "outputs": [],
   "source": [
    "%matplotlib inline\n",
    "import pandas as pd\n",
    "import numpy as np\n",
    "import scipy as sp\n",
    "import category_encoders as ce\n",
    "from sklearn import model_selection\n",
    "from sklearn.model_selection import KFold\n",
    "from sklearn.model_selection import train_test_split\n",
    "from sklearn.ensemble import RandomForestRegressor\n",
    "from sklearn.model_selection import cross_val_score\n",
    "from scipy.sparse import csr_matrix\n",
    "from sklearn.metrics import mean_squared_error\n",
    "from statistics import mean \n",
    "import matplotlib.pyplot as plt\n",
    "from random import randrange"
   ]
  },
  {
   "cell_type": "code",
   "execution_count": null,
   "metadata": {
    "colab": {},
    "colab_type": "code",
    "executionInfo": {
     "elapsed": 2455,
     "status": "ok",
     "timestamp": 1593378488411,
     "user": {
      "displayName": "Catalina Lago",
      "photoUrl": "",
      "userId": "05060712323662355960"
     },
     "user_tz": 300
    },
    "id": "hWGJO4z_sxNa"
   },
   "outputs": [],
   "source": [
    "data = pd.read_csv('../datasets/dataTrain_carListings.zip')"
   ]
  },
  {
   "cell_type": "code",
   "execution_count": null,
   "metadata": {
    "colab": {
     "base_uri": "https://localhost:8080/",
     "height": 204
    },
    "colab_type": "code",
    "executionInfo": {
     "elapsed": 446,
     "status": "ok",
     "timestamp": 1593378489532,
     "user": {
      "displayName": "Catalina Lago",
      "photoUrl": "",
      "userId": "05060712323662355960"
     },
     "user_tz": 300
    },
    "id": "bSWwN9zdsxNg",
    "outputId": "64e2a90f-496d-4251-cf71-9d1ab94a6a1a"
   },
   "outputs": [],
   "source": [
    "data.head()"
   ]
  },
  {
   "cell_type": "code",
   "execution_count": null,
   "metadata": {
    "colab": {
     "base_uri": "https://localhost:8080/",
     "height": 34
    },
    "colab_type": "code",
    "executionInfo": {
     "elapsed": 370,
     "status": "ok",
     "timestamp": 1593378490728,
     "user": {
      "displayName": "Catalina Lago",
      "photoUrl": "",
      "userId": "05060712323662355960"
     },
     "user_tz": 300
    },
    "id": "UyVAxlejsxNq",
    "outputId": "da28fef6-245d-4a85-d585-825f4202bfc0"
   },
   "outputs": [],
   "source": [
    "data.shape"
   ]
  },
  {
   "cell_type": "code",
   "execution_count": null,
   "metadata": {
    "colab": {
     "base_uri": "https://localhost:8080/",
     "height": 136
    },
    "colab_type": "code",
    "executionInfo": {
     "elapsed": 1183,
     "status": "ok",
     "timestamp": 1593378492080,
     "user": {
      "displayName": "Catalina Lago",
      "photoUrl": "",
      "userId": "05060712323662355960"
     },
     "user_tz": 300
    },
    "id": "1U3UIpEYsxNw",
    "outputId": "5e96e441-bcab-4c14-8f9d-bef0b2a9b87f"
   },
   "outputs": [],
   "source": [
    "data.dtypes"
   ]
  },
  {
   "cell_type": "code",
   "execution_count": null,
   "metadata": {
    "colab": {
     "base_uri": "https://localhost:8080/",
     "height": 170
    },
    "colab_type": "code",
    "executionInfo": {
     "elapsed": 1185,
     "status": "ok",
     "timestamp": 1593378492630,
     "user": {
      "displayName": "Catalina Lago",
      "photoUrl": "",
      "userId": "05060712323662355960"
     },
     "user_tz": 300
    },
    "id": "1sX2ucxxsxN4",
    "outputId": "19515d9c-a52a-4dd1-9991-d81cefc60a02"
   },
   "outputs": [],
   "source": [
    "data.Price.describe()"
   ]
  },
  {
   "cell_type": "code",
   "execution_count": null,
   "metadata": {
    "colab": {
     "base_uri": "https://localhost:8080/",
     "height": 296
    },
    "colab_type": "code",
    "executionInfo": {
     "elapsed": 3045,
     "status": "ok",
     "timestamp": 1593378495011,
     "user": {
      "displayName": "Catalina Lago",
      "photoUrl": "",
      "userId": "05060712323662355960"
     },
     "user_tz": 300
    },
    "id": "TcvspckosxN8",
    "outputId": "df9d91c5-0d47-48b9-c181-cba457b0c3d7"
   },
   "outputs": [],
   "source": [
    "data.plot(kind='scatter', y='Price', x='Year')"
   ]
  },
  {
   "cell_type": "code",
   "execution_count": null,
   "metadata": {
    "colab": {
     "base_uri": "https://localhost:8080/",
     "height": 296
    },
    "colab_type": "code",
    "executionInfo": {
     "elapsed": 3638,
     "status": "ok",
     "timestamp": 1593378496165,
     "user": {
      "displayName": "Catalina Lago",
      "photoUrl": "",
      "userId": "05060712323662355960"
     },
     "user_tz": 300
    },
    "id": "8KYoepb0sxN_",
    "outputId": "5795e88d-8b83-48b3-902e-c7c1f126effd"
   },
   "outputs": [],
   "source": [
    "data.plot(kind='scatter', y='Price', x='Mileage')"
   ]
  },
  {
   "cell_type": "code",
   "execution_count": null,
   "metadata": {
    "colab": {
     "base_uri": "https://localhost:8080/",
     "height": 34
    },
    "colab_type": "code",
    "executionInfo": {
     "elapsed": 3155,
     "status": "ok",
     "timestamp": 1593378496167,
     "user": {
      "displayName": "Catalina Lago",
      "photoUrl": "",
      "userId": "05060712323662355960"
     },
     "user_tz": 300
    },
    "id": "9lgPi31fsxOH",
    "outputId": "209ccbc6-da96-4c35-a7a5-1efc56be8c22"
   },
   "outputs": [],
   "source": [
    "data.columns"
   ]
  },
  {
   "cell_type": "code",
   "execution_count": null,
   "metadata": {
    "colab": {},
    "colab_type": "code",
    "executionInfo": {
     "elapsed": 2654,
     "status": "ok",
     "timestamp": 1593378496169,
     "user": {
      "displayName": "Catalina Lago",
      "photoUrl": "",
      "userId": "05060712323662355960"
     },
     "user_tz": 300
    },
    "id": "b-THLpBbsxON"
   },
   "outputs": [],
   "source": [
    "data=data.sample(n=10000, random_state=1) # Se toma una muestra aleatoria de la base para hacer los entrenamientos y calibración de parametros"
   ]
  },
  {
   "cell_type": "code",
   "execution_count": null,
   "metadata": {
    "colab": {},
    "colab_type": "code",
    "executionInfo": {
     "elapsed": 2119,
     "status": "ok",
     "timestamp": 1593378496171,
     "user": {
      "displayName": "Catalina Lago",
      "photoUrl": "",
      "userId": "05060712323662355960"
     },
     "user_tz": 300
    },
    "id": "dMtk6VdcsxOU"
   },
   "outputs": [],
   "source": [
    "# Conjunto de predictores\n",
    "X_cat = data[[\"State\", \"Make\", \"Model\"]]\n",
    "X_num = data[[\"Year\",\"Mileage\"]]"
   ]
  },
  {
   "cell_type": "code",
   "execution_count": null,
   "metadata": {
    "colab": {},
    "colab_type": "code",
    "executionInfo": {
     "elapsed": 1453,
     "status": "ok",
     "timestamp": 1593378496172,
     "user": {
      "displayName": "Catalina Lago",
      "photoUrl": "",
      "userId": "05060712323662355960"
     },
     "user_tz": 300
    },
    "id": "6iJfB0TGsxOc"
   },
   "outputs": [],
   "source": [
    "encoder = ce.BinaryEncoder().fit(X_cat,axis=1)\n",
    "X_cat = encoder.transform(X_cat)"
   ]
  },
  {
   "cell_type": "code",
   "execution_count": null,
   "metadata": {
    "colab": {},
    "colab_type": "code",
    "executionInfo": {
     "elapsed": 1048,
     "status": "ok",
     "timestamp": 1593378498959,
     "user": {
      "displayName": "Catalina Lago",
      "photoUrl": "",
      "userId": "05060712323662355960"
     },
     "user_tz": 300
    },
    "id": "TNpxWY6zsxOq"
   },
   "outputs": [],
   "source": [
    "X = pd.concat([X_num,X_cat],  axis=1, sort = False)"
   ]
  },
  {
   "cell_type": "code",
   "execution_count": null,
   "metadata": {
    "colab": {
     "base_uri": "https://localhost:8080/",
     "height": 204
    },
    "colab_type": "code",
    "executionInfo": {
     "elapsed": 805,
     "status": "ok",
     "timestamp": 1593378499475,
     "user": {
      "displayName": "Catalina Lago",
      "photoUrl": "",
      "userId": "05060712323662355960"
     },
     "user_tz": 300
    },
    "id": "VsCyI1_YsxOu",
    "outputId": "7da5252a-2acd-41f6-cdba-138cbd138411"
   },
   "outputs": [],
   "source": [
    "X.head()"
   ]
  },
  {
   "cell_type": "code",
   "execution_count": null,
   "metadata": {
    "colab": {
     "base_uri": "https://localhost:8080/",
     "height": 34
    },
    "colab_type": "code",
    "executionInfo": {
     "elapsed": 369,
     "status": "ok",
     "timestamp": 1593378500635,
     "user": {
      "displayName": "Catalina Lago",
      "photoUrl": "",
      "userId": "05060712323662355960"
     },
     "user_tz": 300
    },
    "id": "MxzP-ph3sxOy",
    "outputId": "adb3c648-c904-48b8-ebbe-eb0f345cb187"
   },
   "outputs": [],
   "source": [
    "X.shape"
   ]
  },
  {
   "cell_type": "code",
   "execution_count": null,
   "metadata": {
    "colab": {
     "base_uri": "https://localhost:8080/",
     "height": 34
    },
    "colab_type": "code",
    "executionInfo": {
     "elapsed": 369,
     "status": "ok",
     "timestamp": 1593378500635,
     "user": {
      "displayName": "Catalina Lago",
      "photoUrl": "",
      "userId": "05060712323662355960"
     },
     "user_tz": 300
    },
    "id": "MxzP-ph3sxOy",
    "outputId": "adb3c648-c904-48b8-ebbe-eb0f345cb187"
   },
   "outputs": [],
   "source": [
    "y = data['Price']"
   ]
  },
  {
   "cell_type": "markdown",
   "metadata": {
    "colab_type": "text",
    "id": "z7iXqjo1sxO4"
   },
   "source": [
    "# Exercise P2.1 (50%)\n",
    "\n",
    "Develop a machine learning model that predicts the price of the of car using as an input ['Year', 'Mileage', 'State', 'Make', 'Model']\n",
    "\n",
    "#### Evaluation:\n",
    "- 25% - Performance of the models using a manually implemented K-Fold (K=10) cross-validation\n",
    "- 25% - Notebook explaining the process for selecting the best model. You must specify how the calibration of each of the parameters is done and how these change the performance of the model. It is expected that a clear comparison will be made of all implemented models.. Present the most relevant conslusions about the whole process. \n"
   ]
  },
  {
   "cell_type": "code",
   "execution_count": null,
   "metadata": {
    "colab": {},
    "colab_type": "code",
    "executionInfo": {
     "elapsed": 372,
     "status": "ok",
     "timestamp": 1593378506472,
     "user": {
      "displayName": "Catalina Lago",
      "photoUrl": "",
      "userId": "05060712323662355960"
     },
     "user_tz": 300
    },
    "id": "tryTVpnisxPF"
   },
   "outputs": [],
   "source": [
    "# train/test split\n",
    "from sklearn.model_selection import train_test_split\n",
    "X_train, X_test, y_train, y_test = train_test_split(X, y,test_size=.2, random_state=1)"
   ]
  },
  {
   "cell_type": "code",
   "execution_count": null,
   "metadata": {
    "colab": {},
    "colab_type": "code",
    "executionInfo": {
     "elapsed": 372,
     "status": "ok",
     "timestamp": 1593378506472,
     "user": {
      "displayName": "Catalina Lago",
      "photoUrl": "",
      "userId": "05060712323662355960"
     },
     "user_tz": 300
    },
    "id": "tryTVpnisxPF"
   },
   "outputs": [],
   "source": [
    "def cross_validation(X_train, y_train, model,k=10):\n",
    "    \n",
    "    scores = []\n",
    "    \n",
    "    cv = KFold(n_splits=k, random_state=42, shuffle=False)\n",
    "    \n",
    "    #folds = np.array_split(data, k)\n",
    "\n",
    "    for train_index, test_index in cv.split(X_train):\n",
    "        X_train_rf, X_test_rf, y_train_rf, y_test_rf = X_train.iloc[train_index], X_train.iloc[test_index], y_train.iloc[train_index], y_train.iloc[test_index]\n",
    "        X_train_rf = csr_matrix(X_train_rf)     #Sparse para darle agilidad al modelo\n",
    "        model.fit(X_train_rf, y_train_rf)\n",
    "        y_pr=model.predict(X_test_rf)\n",
    "        scores.append(mean_squared_error(y_test_rf, y_pr)**0.5)\n",
    "    \n",
    "    return mean(scores)"
   ]
  },
  {
   "cell_type": "markdown",
   "metadata": {
    "colab": {},
    "colab_type": "code",
    "id": "eUPKlEUDsxPT"
   },
   "source": [
    "### Random forest\n",
    "A random forest regressor is a meta estimator that fits a number of classifying decision trees on various sub-samples of the dataset and uses averaging to improve the predictive accuracy and control over-fitting. "
   ]
  },
  {
   "cell_type": "code",
   "execution_count": null,
   "metadata": {
    "colab": {},
    "colab_type": "code",
    "id": "eUPKlEUDsxPT"
   },
   "outputs": [],
   "source": [
    "# Random forest \n",
    "clf = RandomForestRegressor(random_state=1, n_jobs=-1)\n",
    "clf.fit(X_train, y_train)\n",
    "y_pr=clf.predict(X_test)\n",
    "mean_squared_error(y_test, y_pr)**0.5"
   ]
  },
  {
   "cell_type": "markdown",
   "metadata": {},
   "source": [
    "#### Parameter tunning\n",
    "n_estimators represents the number of trees in the forest. Usually the higher the number of trees the better to learn the data. \n",
    "However, adding a lot of trees can slow down the training process considerably,therefore we do a parameter search to find the sweet spot."
   ]
  },
  {
   "cell_type": "code",
   "execution_count": null,
   "metadata": {
    "colab": {},
    "colab_type": "code",
    "id": "eUPKlEUDsxPT"
   },
   "outputs": [],
   "source": [
    "# findind the best n_estimators: \n",
    "\n",
    "# list of values to try for n_estimators\n",
    "estimator_range = range(10, 1000, 100)\n",
    "\n",
    "# list to store the average Accuracy for each value of n_estimators\n",
    "accuracy_scores = []\n",
    "\n",
    "# use 5-fold cross-validation with each value of n_estimators (WARNING: SLOW!)\n",
    "for estimator in estimator_range:\n",
    "    clf = RandomForestRegressor(n_estimators=estimator, random_state=1, n_jobs=-1)\n",
    "    accuracy_scores.append(cross_validation(X_train, y_train, clf,k=10))\n",
    "    "
   ]
  },
  {
   "cell_type": "code",
   "execution_count": null,
   "metadata": {
    "colab": {},
    "colab_type": "code",
    "id": "8Et3KYWYsxPV"
   },
   "outputs": [],
   "source": [
    "plt.plot(estimator_range, accuracy_scores)\n",
    "plt.xlabel('n_estimators')\n",
    "plt.ylabel('MSE')"
   ]
  },
  {
   "cell_type": "code",
   "execution_count": null,
   "metadata": {
    "colab": {},
    "colab_type": "code",
    "id": "iEPG1ejPsxPf"
   },
   "outputs": [],
   "source": [
    "X.columns"
   ]
  },
  {
   "cell_type": "code",
   "execution_count": null,
   "metadata": {
    "colab": {},
    "colab_type": "code",
    "id": "Maz4fwOIsxPj"
   },
   "outputs": [],
   "source": [
    "feature_cols = X.columns"
   ]
  },
  {
   "cell_type": "markdown",
   "metadata": {},
   "source": [
    "max_features is the size of the random subsets of features to consider when splitting a node."
   ]
  },
  {
   "cell_type": "code",
   "execution_count": null,
   "metadata": {
    "colab": {},
    "colab_type": "code",
    "id": "nk00CHEWsxPl"
   },
   "outputs": [],
   "source": [
    "# list of values to try for max_features: \n",
    "feature_range = range(1, len(feature_cols)+1)\n",
    "\n",
    "# list to store the average Accuracy for each value of max_features\n",
    "accuracy_scores = []\n",
    "\n",
    "# use 10-fold cross-validation with each value of max_features (WARNING: SLOW!)\n",
    "for feature in feature_range:\n",
    "    clf = RandomForestRegressor(n_estimators=200, max_features=feature, random_state=1, n_jobs=-1)\n",
    "    accuracy_scores.append(cross_validation(X_train, y_train, clf,k=10))\n",
    "    "
   ]
  },
  {
   "cell_type": "code",
   "execution_count": null,
   "metadata": {
    "colab": {},
    "colab_type": "code",
    "id": "qriZI3OesxPo"
   },
   "outputs": [],
   "source": [
    "plt.plot(feature_range, accuracy_scores)\n",
    "plt.xlabel('max_features')\n",
    "plt.ylabel('MSE')"
   ]
  },
  {
   "cell_type": "markdown",
   "metadata": {},
   "source": [
    "max_depth represents the depth of each tree in the forest. The deeper the tree, the more splits it has and it captures more information about the data. "
   ]
  },
  {
   "cell_type": "code",
   "execution_count": null,
   "metadata": {
    "colab": {},
    "colab_type": "code",
    "id": "ezITq-EUsxPq"
   },
   "outputs": [],
   "source": [
    "# list of values to try for max_depth: \n",
    "max_depth_range = range(1, 21)\n",
    "\n",
    "# list to store the average RMSE for each value of max_depth\n",
    "accuracy_scores = []\n",
    "\n",
    "for depth in max_depth_range:\n",
    "    clf =  RandomForestRegressor(max_depth=depth, n_estimators=200,max_features=9, random_state=1,n_jobs=-1)\n",
    "    accuracy_scores.append(cross_validation(X_train, y_train, clf,k=10))\n",
    "    \n",
    "    "
   ]
  },
  {
   "cell_type": "code",
   "execution_count": null,
   "metadata": {
    "colab": {},
    "colab_type": "code",
    "id": "ZBQ0fI7_sxPt"
   },
   "outputs": [],
   "source": [
    "plt.plot(max_depth_range, accuracy_scores)\n",
    "plt.xlabel('max_depth')\n",
    "plt.ylabel('MSE')"
   ]
  },
  {
   "cell_type": "code",
   "execution_count": null,
   "metadata": {
    "colab": {},
    "colab_type": "code",
    "id": "mOzTCff-sxPv"
   },
   "outputs": [],
   "source": [
    "# model with the optimized parameters \n",
    "clf_optimizado =  RandomForestRegressor(max_depth=15, n_estimators=100, max_features=9, random_state=1,n_jobs=-1)\n",
    "clf_optimizado.fit(X_train, y_train)\n",
    "y_pr=clf_optimizado.predict(X_test)\n",
    "mean_squared_error(y_test, y_pr)**0.5"
   ]
  },
  {
   "cell_type": "markdown",
   "metadata": {},
   "source": [
    "Con el modelo random forest calibrado usando cross validation con kfold =10 se logra reducir el RMSE de 5431.5 a  5289.156776271887. "
   ]
  },
  {
   "cell_type": "markdown",
   "metadata": {
    "colab": {},
    "colab_type": "code",
    "id": "-VOqJTHWsxPx"
   },
   "source": [
    "## XGBoost"
   ]
  },
  {
   "cell_type": "code",
   "execution_count": null,
   "metadata": {
    "colab": {},
    "colab_type": "code",
    "id": "-VOqJTHWsxPx"
   },
   "outputs": [],
   "source": [
    "#XGBoost\n",
    "from xgboost import XGBRegressor\n",
    "from sklearn import metrics\n",
    "xg = XGBRegressor()\n",
    "xg"
   ]
  },
  {
   "cell_type": "code",
   "execution_count": null,
   "metadata": {
    "colab": {},
    "colab_type": "code",
    "id": "NBJ5U7v0sxPz"
   },
   "outputs": [],
   "source": [
    "xg.fit(X_train, y_train)\n",
    "y_pred = xg.predict(X_test)\n",
    "metrics.mean_squared_error(y_pred, y_test.values)**0.5"
   ]
  },
  {
   "cell_type": "markdown",
   "metadata": {
    "colab": {},
    "colab_type": "code",
    "id": "4eITPdWdsxP7"
   },
   "source": [
    "n_estimators : represents the number of trees in the forest. Usually the higher the number of trees the better to learn the data."
   ]
  },
  {
   "cell_type": "code",
   "execution_count": null,
   "metadata": {
    "colab": {},
    "colab_type": "code",
    "id": "4eITPdWdsxP7"
   },
   "outputs": [],
   "source": [
    "# findind the best n_estimators: \n",
    "\n",
    "# list of values to try for n_estimators\n",
    "estimator_range = range(10, 1000, 100)\n",
    "\n",
    "# list to store the average RMSE\n",
    "accuracy_scores = []\n",
    "\n",
    "for e in estimator_range:\n",
    "    xg =  XGBRegressor(n_estimators=e, random_state=1,n_jobs=-1)\n",
    "    xg.fit(X_train, y_train)\n",
    "    y_pred = xg.predict(X_test)\n",
    "    accuracy_scores.append(cross_validation(X_train, y_train, xg,k=10))       "
   ]
  },
  {
   "cell_type": "code",
   "execution_count": null,
   "metadata": {
    "colab": {},
    "colab_type": "code",
    "id": "7T5kr3ZmsxP9"
   },
   "outputs": [],
   "source": [
    "plt.plot(estimator_range, accuracy_scores)\n",
    "plt.xlabel('n_estimators')\n",
    "plt.ylabel('RMSE')"
   ]
  },
  {
   "cell_type": "markdown",
   "metadata": {
    "colab": {},
    "colab_type": "code",
    "id": "ATmR3HX2sxQA"
   },
   "source": [
    "learning_rate: A technique to slow down the learning in the gradient boosting model is to apply a weighting factor for the corrections by new trees when added to the model.\n",
    "\n",
    "This weighting is called the shrinkage factor or the learning rate, depending on the literature or the tool."
   ]
  },
  {
   "cell_type": "code",
   "execution_count": null,
   "metadata": {
    "colab": {},
    "colab_type": "code",
    "id": "ATmR3HX2sxQA"
   },
   "outputs": [],
   "source": [
    "# findinf best value for learning_rate\n",
    "learning_rate_range = np.arange(0, 1, 0.1)\n",
    "\n",
    "# list to store the average RMSE\n",
    "accuracy_scores = []\n",
    "\n",
    "for lr in learning_rate_range:\n",
    "    xg =  XGBRegressor(eta=lr, n_estimators=200, random_state=1,n_jobs=-1)\n",
    "    xg.fit(X_train, y_train)\n",
    "    y_pred = xg.predict(X_test)\n",
    "    accuracy_scores.append(cross_validation(X_train, y_train, xg,k=10))\n",
    "    \n",
    "    \n",
    "    "
   ]
  },
  {
   "cell_type": "code",
   "execution_count": null,
   "metadata": {
    "colab": {},
    "colab_type": "code",
    "id": "-GXOIUIUsxQD"
   },
   "outputs": [],
   "source": [
    "plt.plot(learning_rate_range, accuracy_scores)\n",
    "plt.xlabel('learning_rate')\n",
    "plt.ylabel('Accuracy')"
   ]
  },
  {
   "cell_type": "markdown",
   "metadata": {
    "colab": {},
    "colab_type": "code",
    "id": "-sBDsmVwsxP1"
   },
   "source": [
    "Gamma: A node is split only when the resulting split gives a positive reduction in the loss function. Gamma specifies the minimum loss reduction required to make a split.\n",
    "Makes the algorithm conservative. The values can vary depending on the loss function and should be tuned. "
   ]
  },
  {
   "cell_type": "code",
   "execution_count": null,
   "metadata": {
    "colab": {},
    "colab_type": "code",
    "id": "-sBDsmVwsxP1"
   },
   "outputs": [],
   "source": [
    "# tunning gamma \n",
    "gamma_range = range(0,50)\n",
    "# list to store the average RMSE \n",
    "accuracy_scores = []\n",
    "\n",
    "for g in gamma_range:\n",
    "    xg =  XGBRegressor(gamma=g ,eta=0.099, n_estimators=200, random_state=1,n_jobs=-1)\n",
    "    xg.fit(X_train, y_train)\n",
    "    y_pred = xg.predict(X_test)\n",
    "    accuracy_scores.append(cross_validation(X_train, y_train, xg,k=10))"
   ]
  },
  {
   "cell_type": "code",
   "execution_count": null,
   "metadata": {
    "colab": {},
    "colab_type": "code",
    "id": "FZa6mRlJsxP3"
   },
   "outputs": [],
   "source": [
    "plt.plot(gamma_range, accuracy_scores)\n",
    "plt.xlabel('gamma')\n",
    "plt.ylabel('RMSE')"
   ]
  },
  {
   "cell_type": "code",
   "execution_count": null,
   "metadata": {
    "colab": {},
    "colab_type": "code",
    "id": "wX2PpDoGsxQH"
   },
   "outputs": [],
   "source": [
    "# XGB optimizado \n",
    "\n",
    "xg_op =  XGBRegressor(n_estimators=200,eta=0.099, random_state=1,n_jobs=-1)\n",
    "xg_op.fit(X_train, y_train)\n",
    "y_pred = xg_op.predict(X_test)\n",
    "metrics.mean_squared_error(y_pred, y_test.values)**0.5"
   ]
  },
  {
   "cell_type": "markdown",
   "metadata": {
    "colab": {},
    "colab_type": "code",
    "id": "wX2PpDoGsxQH"
   },
   "source": [
    "Con el modelo XGboost calibrado usando cross validation con kfold =10 se logra reducir el RMSE de 5647.7 a  5554.7.\n",
    "En comparación con el modelo random forest calibrado donde se obtuvo un RMSE de 5289.156776271887 con el XGBoost se obtiene un RMSE de 5554.7. De acuerdo con lo anterior se procede a trabajar con el modelo random forest. "
   ]
  },
  {
   "cell_type": "markdown",
   "metadata": {
    "colab_type": "text",
    "id": "EiKz2JLwsxQM"
   },
   "source": [
    "# Exercise P2.2 (50%)\n",
    "\n",
    "Create an API of the model.\n",
    "\n",
    "Example:\n",
    "![](https://raw.githubusercontent.com/albahnsen/PracticalMachineLearningClass/master/notebooks/images/img015.PNG)\n",
    "\n",
    "#### Evaluation:\n",
    "- 40% - API hosted on a cloud service\n",
    "- 10% - Show screenshots of the model doing the predictions on the local machine\n"
   ]
  },
  {
   "cell_type": "markdown",
   "metadata": {
    "colab": {},
    "colab_type": "code",
    "id": "wX2PpDoGsxQH"
   },
   "source": [
    "### Save model"
   ]
  },
  {
   "cell_type": "code",
   "execution_count": null,
   "metadata": {
    "colab": {},
    "colab_type": "code",
    "id": "wX2PpDoGsxQH"
   },
   "outputs": [],
   "source": [
    "import joblib"
   ]
  },
  {
   "cell_type": "code",
   "execution_count": null,
   "metadata": {
    "colab": {},
    "colab_type": "code",
    "id": "wX2PpDoGsxQH"
   },
   "outputs": [],
   "source": [
    "joblib.dump(clf_optimizado, 'model_deployment_proyecto/car_price_prediction.aaaa', compress=3)"
   ]
  },
  {
   "cell_type": "code",
   "execution_count": null,
   "metadata": {
    "colab": {},
    "colab_type": "code",
    "id": "wX2PpDoGsxQH"
   },
   "outputs": [],
   "source": [
    "joblib.dump(encoder, 'model_deployment_proyecto/encoder.aaaa', compress=3)"
   ]
  },
  {
   "cell_type": "markdown",
   "metadata": {
    "colab": {},
    "colab_type": "code",
    "id": "wX2PpDoGsxQH"
   },
   "source": [
    "###  Model in batch"
   ]
  },
  {
   "cell_type": "code",
   "execution_count": null,
   "metadata": {
    "colab": {},
    "colab_type": "code",
    "id": "wX2PpDoGsxQH"
   },
   "outputs": [],
   "source": [
    "from model_deployment_proyecto.m09_model_deployment import predict_price"
   ]
  },
  {
   "cell_type": "code",
   "execution_count": null,
   "metadata": {
    "colab": {},
    "colab_type": "code",
    "id": "wX2PpDoGsxQH"
   },
   "outputs": [],
   "source": [
    "predict_price(Year=2015,Mileage=54593,State='MS',Make='Toyota',Model='CamrySE')"
   ]
  },
  {
   "cell_type": "markdown",
   "metadata": {
    "colab": {},
    "colab_type": "code",
    "id": "wX2PpDoGsxQH"
   },
   "source": [
    "### API"
   ]
  },
  {
   "cell_type": "code",
   "execution_count": null,
   "metadata": {},
   "outputs": [],
   "source": [
    "from flask import Flask\n",
    "from flask_restx import Api, Resource, fields\n",
    "import joblib\n",
    "from model_deployment_proyecto.m09_model_deployment import predict_price\n",
    "\n",
    "app = Flask(__name__)\n",
    "\n",
    "api = Api(\n",
    "    app, \n",
    "    version='1.0', \n",
    "    title='Car Prices Prediction API',\n",
    "    description='Car Prices Prediction API')\n",
    "\n",
    "ns = api.namespace('predict', \n",
    "     description='Price prediction')\n",
    "   \n",
    "parser = api.parser()\n",
    "\n",
    "parser.add_argument(\n",
    "    'Year', \n",
    "    type=int, \n",
    "    required=True, \n",
    "    help='Year to be analyzed', \n",
    "    location='args')\n",
    "\n",
    "parser.add_argument(\n",
    "    'Mileage', \n",
    "    type=int, \n",
    "    required=True, \n",
    "    help='Mileage to be analyzed', \n",
    "    location='args')\n",
    "\n",
    "parser.add_argument(\n",
    "    'State', \n",
    "    type=str, \n",
    "    required=True, \n",
    "    help='State to be analyzed', \n",
    "    location='args')\n",
    "\n",
    "parser.add_argument(\n",
    "    'Make', \n",
    "    type=str, \n",
    "    required=True, \n",
    "    help='Make to be analyzed', \n",
    "    location='args')\n",
    "\n",
    "\n",
    "parser.add_argument(\n",
    "    'Model', \n",
    "    type=str, \n",
    "    required=True, \n",
    "    help='Model to be analyzed', \n",
    "    location='args')\n",
    "\n",
    "resource_fields = api.model('Resource', {\n",
    "    'result': fields.String,\n",
    "})\n",
    "\n",
    "@ns.route('/')\n",
    "class PhishingApi(Resource):\n",
    "\n",
    "    @api.doc(parser=parser)\n",
    "    @api.marshal_with(resource_fields)\n",
    "    def get(self):\n",
    "        args = parser.parse_args()\n",
    "        \n",
    "        return {\n",
    "        \"result\": predict_price(args['Year'],args['Mileage'],args['State'],args['Make'],args['Model'])\n",
    "        }, 200\n",
    "    \n",
    "    \n",
    "if __name__ == '__main__':\n",
    "    app.run(debug=True, use_reloader=False, host='0.0.0.0', port=5000)\n"
   ]
  },
  {
   "cell_type": "code",
   "execution_count": null,
   "metadata": {},
   "outputs": [],
   "source": []
  }
 ],
 "metadata": {
  "accelerator": "GPU",
  "colab": {
   "name": "P2-UsedVehiclePricePrediction2.ipynb",
   "provenance": []
  },
  "kernelspec": {
   "display_name": "Python 3",
   "language": "python",
   "name": "python3"
  },
  "language_info": {
   "codemirror_mode": {
    "name": "ipython",
    "version": 3
   },
   "file_extension": ".py",
   "mimetype": "text/x-python",
   "name": "python",
   "nbconvert_exporter": "python",
   "pygments_lexer": "ipython3",
   "version": "3.7.3"
  }
 },
 "nbformat": 4,
 "nbformat_minor": 1
}
